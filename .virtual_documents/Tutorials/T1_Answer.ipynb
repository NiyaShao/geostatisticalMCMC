











import numpy as np
import matplotlib.pyplot as plt
import pandas as pd
import Topography








# unit is meter
xmin = 2300000
xmax = 2600000
ymax = -300000
ymin = -500000


resolution = 1000





radar_folder = '../Data/radarTest'
output_file_name = '../Data/compiledRadar.csv'





df, df_out, fig = Topography.load_radar(radar_folder, output_file_name, include_only_thickness_data=False)


df


fig





df=df[(df['x']>=xmin) & (df['x']<=xmax) & (df['y']>=ymin) & (df['y']<=ymax)] # find all radar data inside the domain
df_grid, grid_matrix, rows, cols = Topography.grid_data(df, 'x', 'y', 'bed', resolution, xmin, xmax, ymin, ymax) # grid them
df_grid = df_grid.rename(columns = {"Z": "bed"})

x_uniq = np.unique(df_grid.X)
y_uniq = np.unique(df_grid.Y)

xx, yy = np.meshgrid(x_uniq, y_uniq) # xx store the x coordinate of every location on this 2D map. Similarly, yy store y coordinate
xx.shape


df_grid


grid_matrix





df_grid.to_csv('compiledRadar.csv', index = False)





df_grid = pd.read_csv('compiledRadar.csv')





print('testing for loading InSAR_MEaSUREs velocity dataset')
velx, vely, velxerr, velyerr, figvel = Topography.load_vel_measures('../../Data/antarctica_ice_velocity_450m_v2.nc', xx, yy)
figvel


print('testing for loading height change rate dataset')
dhdt, figdhdt = Topography.load_dhdt('../Data/ANT_G1920_GroundedIceHeight_v01.nc',xx,yy,interp_method='linear',begin_year=2013,end_year=2015,month=7)
figdhdt


print('testing for loading racmo dataset')   
smb, fig = Topography.load_smb_racmo('../Data/SMB_RACMO2.3p2_yearly_ANT27_1979_2016.nc', xx, yy, interp_method='spline',time=2014)
figsmb


print('testing for loading BedMachine dataset')
bm_mask, bm_source, bm_bed, bm_surface, bm_errbed, figbm = Topography.load_bedmachine('../../Data/BedMachineAntarctica-v3.nc', xx, yy)
figbm









