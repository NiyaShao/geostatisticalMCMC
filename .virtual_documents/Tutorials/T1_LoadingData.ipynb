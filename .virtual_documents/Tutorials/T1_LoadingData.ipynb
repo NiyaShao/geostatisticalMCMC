











import numpy as np
import matplotlib.pyplot as plt
from pck import Topography








# unit is meter
xmin = 
xmax = 
ymin =
ymax =


resolution = 





radar_folder = ''
output_file_name = ''





df, df_out, fig = Topography.load_radar(radar_foler, output_file_name, include_only_thickness_data=False)


fig





df=df[(df['x']>=xmin) & (df['x']<=xmax) & (df['y']>=ymin) & (df['y']<=ymax)]
df_grid, grid_matrix, rows, cols = Topography.grid_data(df, 'x', 'y', 'bed', res, xmin, xmax, ymin, ymax)
df_grid = df_grid.rename(columns = {"Z": "bed"})

x_uniq = np.unique(df_grid.X)
y_uniq = np.unique(df_grid.Y)

xx, yy = np.meshgrid(x_uniq, y_uniq)
xx.shape





df.to_csv('')











print('testing for loading InSAR_MEaSUREs velocity dataset')
velx, vely, velxerr, velyerr, figvel = Topography.load_vel_measures()
figvel


print('testing for loading height change rate dataset')
dhdt, figdhdt = Topography.load_dhdt()
figdhdt


print('testing for loading racmo dataset')   
smb, fig = Topography.load_smb_racmo()
figsmb


print('testing for loading BedMachine dataset')
bm_mask, bm_source, bm_bed, bm_surface, bm_errbed, figbm = Topography.load_bedmachine()
figbm









