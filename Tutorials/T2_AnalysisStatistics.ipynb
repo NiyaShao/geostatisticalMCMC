{
 "cells": [
  {
   "cell_type": "markdown",
   "id": "5402b269-25a9-47f0-a5c5-1131fbe200bd",
   "metadata": {},
   "source": [
    "# Tutorial 2: Analyzing Statistics and Variogram of the Ice Stream Data"
   ]
  },
  {
   "cell_type": "markdown",
   "id": "8d2323be-31ee-4e28-8d9d-c3f9c604cd75",
   "metadata": {},
   "source": [
    "### First load data as before"
   ]
  },
  {
   "cell_type": "code",
   "execution_count": 1,
   "id": "2a067b08-d851-4745-87af-03084c9f5b62",
   "metadata": {},
   "outputs": [],
   "source": [
    "# load compiled bed elevation measurements\n",
    "df = pd.read_csv('')"
   ]
  },
  {
   "cell_type": "code",
   "execution_count": null,
   "id": "ab150e0c-6985-4ec3-9b2d-1c2394e721ef",
   "metadata": {},
   "outputs": [],
   "source": [
    "# create a grid of x and y coordinates\n",
    "x_uniq = np.unique(df.X)\n",
    "y_uniq = np.unique(df.Y)\n",
    "\n",
    "xmin = np.min(x_uniq)\n",
    "xmax = np.max(x_uniq)\n",
    "ymin = np.min(y_uniq)\n",
    "ymax = np.max(y_uniq)\n",
    "\n",
    "cols = len(x_uniq)\n",
    "rows = len(y_uniq)\n",
    "\n",
    "resolution = 1000\n",
    "\n",
    "xx, yy = np.meshgrid(x_uniq, y_uniq)"
   ]
  },
  {
   "cell_type": "code",
   "execution_count": null,
   "id": "ad3d8320-db33-4598-a4d7-476941ef3ab0",
   "metadata": {},
   "outputs": [],
   "source": [
    "# load other data\n",
    "velx, vely, velxerr, velyerr, fig = Topography.load_vel_measures('../../Data/antarctica_ice_velocity_450m_v2.nc', xx, yy)\n",
    "dhdt, fig = Topography.load_dhdt('../Data/ANT_G1920_GroundedIceHeight_v01.nc',xx,yy,interp_method='linear',begin_year = 2013,end_year=2015,month=7)\n",
    "smb, fig = Topography.load_smb_racmo('../Data/SMB_RACMO2.3p2_yearly_ANT27_1979_2016.nc', xx, yy, interp_method='spline',time=2014)\n",
    "bm_mask, bm_source, bm_bed, bm_surface, bm_errbed, fig = Topography.load_bedmachine('../../Data/BedMachineAntarctica-v3.nc', xx, yy)"
   ]
  },
  {
   "cell_type": "markdown",
   "id": "607cc57f-82a3-4984-915f-157ce06bac7d",
   "metadata": {},
   "source": [
    "### Now, it is the time to analyze the compiled radar data."
   ]
  },
  {
   "cell_type": "markdown",
   "id": "71fbe2a7-659c-47fc-97f6-a6f438c7fa69",
   "metadata": {},
   "source": [
    "#### Fit variogram"
   ]
  },
  {
   "cell_type": "markdown",
   "id": "36f3287c-08ef-488f-beab-0e9666e95495",
   "metadata": {},
   "source": [
    "MCMC.fit_variogram is a wrapper around functions in scikit-learn and skgstats python modules. It conveniently normalize the provided bed elevation data, calculate the semi-variogram, and fit it with four different models (Gaussian, Exponential, Spherical, Matern). The output map could be used to visually decide which variogram model fit the data the best."
   ]
  },
  {
   "cell_type": "code",
   "execution_count": null,
   "id": "5eda8eb5-7818-48fe-821b-1682591c3b4b",
   "metadata": {},
   "outputs": [],
   "source": [
    "# find variograms\n",
    "df_bed = df.copy()\n",
    "df_bed = df_bed[df_bed[\"bed\"].isnull() == False]\n",
    "data = df_bed['bed'].values.reshape(-1,1)\n",
    "coords = df_bed[['X','Y']].values\n",
    "roughness_region_mask = (df_bed['bedmachine_mask'].values)==2 # Read BedMachine user guide for the meaning of values == 2 https://nsidc.org/data/nsidc-0756/versions/3\n",
    "\n",
    "nst_trans, Nbed_radar, varios, fig = MCMC.fit_variogram(data, coords, roughness_region_mask, maxlag=70000, n_lags=70)"
   ]
  },
  {
   "cell_type": "markdown",
   "id": "32d5e19c-1276-4677-8dda-d491cc8e9905",
   "metadata": {},
   "source": [
    "__Q1: How does the maxlag and n_lags affect variogram calculated? How you determine their values such that your variogram is accurately represented?__"
   ]
  },
  {
   "cell_type": "markdown",
   "id": "f0853e8b-c140-4d57-9f1b-deac800e48e8",
   "metadata": {},
   "source": [
    "__Q2: Which variogram model you choose? Why?__"
   ]
  },
  {
   "cell_type": "markdown",
   "id": "df0b6e4d-46b9-4712-b666-d57e5648ff29",
   "metadata": {},
   "source": [
    "#### Find high velocity region"
   ]
  },
  {
   "cell_type": "markdown",
   "id": "d2e033c7-812b-428f-b763-c9485081b306",
   "metadata": {},
   "source": [
    "In addition, since we have the velocity data, it will also be nice to know where the high velocity region is, remembering that the mass conservation technique is best applied in high velocity region"
   ]
  },
  {
   "cell_type": "markdown",
   "id": "709f8d12-f269-4eda-8e8c-7c39c93a2455",
   "metadata": {},
   "source": [
    "The *highvel_mask* returned try to smoothly enclose a region of high velocity and excluding locations where the ice is not grounded. This region could be used later to constrain the sampling location of the MCMC.\n",
    "\n",
    "The function works as first find high velocity region, then smooth the boundary of this region. Because this smoothing generally will shrink the boundary, the boundary is later expanded outward for *distance_max* meters.\n",
    "\n",
    "The degree of smoothness of the boundary could be modified by the optional argument *smooth_mode*, which is default to 10. A higher smooth_mode will give a smoother boundary"
   ]
  },
  {
   "cell_type": "markdown",
   "id": "4ebf6a77-c8ec-4252-b0ca-2abe26351047",
   "metadata": {},
   "source": [
    "The *ocean_mask* will be 1 when the location is ocean (open ocean water without ice, sea ice, or ice shelf), and will be 0 otherwise.\n",
    "\n",
    "The *grounded_ice_mask* is 1 at location where ice is present and grounded, and will be 0 otherwise.\n",
    "\n",
    "An example where *ocean_mask == 0 and grounded_ice_mask == 0* will be ice-free terrestrial land"
   ]
  },
  {
   "cell_type": "code",
   "execution_count": null,
   "id": "90527ca5-75ce-47bd-8813-f42572c0470e",
   "metadata": {},
   "outputs": [],
   "source": [
    "# calculate high velocity region\n",
    "ocean_mask = (bm_mask == 0) | (bm_mask == 3) # utilize the mask in BedMachine dataset to characterize ice regions\n",
    "grounded_ice_mask = (bm_mask == 2)\n",
    "distance_max = 3000\n",
    "velocity_threshold = 50\n",
    "highvel_mask = Topography.get_highvel_boundary(velx, vely, velocity_threshold, grounded_ice_mask, ocean_mask, distance_max, xx, yy)"
   ]
  },
  {
   "cell_type": "markdown",
   "id": "18e89eed-21e0-45b9-af9c-650ee712ab5e",
   "metadata": {},
   "source": [
    "#### Generate initial bed"
   ]
  },
  {
   "cell_type": "markdown",
   "id": "6afbdb11-a7af-4ee5-8646-0a2f3648ace2",
   "metadata": {},
   "source": [
    "Let's generate a SGS bed for the entire region\n",
    "\n",
    "https://gatorglaciology.github.io/gstatsimbook/4_Sequential_Gaussian_Simulation.html "
   ]
  },
  {
   "cell_type": "code",
   "execution_count": null,
   "id": "07d09db0-8e8a-48d5-97ac-2e91814971cb",
   "metadata": {},
   "outputs": [],
   "source": [
    "k = 48\n",
    "rad = 50000\n",
    "vario = varios[2]\n",
    "\n",
    "Pred_grid_xy = np.concatenate((xx.flatten(),yy.flatten()),axis=1)\n",
    "\n",
    "df_bed['Nbed_radar'] = Nbed_radar.flatten()\n",
    "\n",
    "sim = gs.Interpolation.okrige_sgs(Pred_grid_xy, df_bed, 'X', 'Y', 'Nbed_radar', k, vario, rad)\n",
    "\n",
    "xy_grid = np.concatenate((xx.flatten(),yy.flatten(),sim.flatten().reshape(-1,1)),axis=1)\n",
    "psimdf = pd.DataFrame(data = xy_grid,columns=['X','Y','Z'],index=df.index)\n",
    "\n",
    "sgs_bed = nst_trans.inverse_transform(np.array(psimdf['Z']).reshape(-1,1)).reshape(rows,cols)\n",
    "np.savetxt('sgs_bed.txt',sgs_bed)"
   ]
  },
  {
   "cell_type": "code",
   "execution_count": null,
   "id": "1ceb6ae3-6232-4f97-b4a9-46af4cd8596b",
   "metadata": {},
   "outputs": [],
   "source": [
    "sgs_bed = np.loadtxt('sgs_bed.txt')"
   ]
  },
  {
   "cell_type": "markdown",
   "id": "8b1faf61-abd2-4377-a8ab-002e6c1d059e",
   "metadata": {},
   "source": [
    "SGS only generate a realization of the bed topography according to the known radar measurements. However, it might ignored something else. The thickness of the ice can be calculated as ice surface elevation minus bed elevation. From BedMachine, we know where the land is ice-free and where is covered by ice. However, SGS might generate bed such that it 'extrude' out of ice in the supposed grounded ice region. Let's fix that quickly"
   ]
  },
  {
   "cell_type": "code",
   "execution_count": null,
   "id": "d2640159-e4c8-4b83-b8bb-9582194d6990",
   "metadata": {},
   "outputs": [],
   "source": [
    "thickness = bm_surface - sgs_bed\n",
    "sgs_bed = np.where((thickness<=0)&(bm_mask==2), bm_surface-1, sgs_bed)"
   ]
  },
  {
   "cell_type": "markdown",
   "id": "9b8000b1-0a11-49ab-b29c-b3159303ea22",
   "metadata": {},
   "source": [
    "There are other things we would like to record before begin the MCMC chains"
   ]
  },
  {
   "cell_type": "code",
   "execution_count": null,
   "id": "4e5abe76-c8b3-4bf6-8aee-e531e9f970be",
   "metadata": {},
   "outputs": [],
   "source": [
    "cond_bed = df['bed'].values.reshape(xx.shape)\n",
    "data_mask = ~np.isnan(cond_bed)"
   ]
  }
 ],
 "metadata": {
  "kernelspec": {
   "display_name": "geostatskernel",
   "language": "python",
   "name": "geostatskernel"
  },
  "language_info": {
   "codemirror_mode": {
    "name": "ipython",
    "version": 3
   },
   "file_extension": ".py",
   "mimetype": "text/x-python",
   "name": "python",
   "nbconvert_exporter": "python",
   "pygments_lexer": "ipython3",
   "version": "3.12.3"
  }
 },
 "nbformat": 4,
 "nbformat_minor": 5
}
