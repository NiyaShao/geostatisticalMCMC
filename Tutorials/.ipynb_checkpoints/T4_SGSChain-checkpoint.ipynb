{
 "cells": [
  {
   "cell_type": "markdown",
   "id": "cc5c3599-17fa-4926-a0a3-32c063ff4d3d",
   "metadata": {},
   "source": [
    "# Tutorial 4: Initializing a sequential gaussian simulation chain"
   ]
  },
  {
   "cell_type": "markdown",
   "id": "00ec0693-3a11-41ac-993e-6084d5de0ba0",
   "metadata": {},
   "source": [
    "### First, obtaining information we need as in T1 and T2"
   ]
  },
  {
   "cell_type": "code",
   "execution_count": 1,
   "id": "550f8a8b-d917-4528-8caa-c3412f782563",
   "metadata": {},
   "outputs": [],
   "source": [
    "# load compiled bed elevation measurements\n",
    "df = pd.read_csv('')"
   ]
  },
  {
   "cell_type": "code",
   "execution_count": null,
   "id": "c8735105-5067-443b-8699-997cb33d637f",
   "metadata": {},
   "outputs": [],
   "source": [
    "# create a grid of x and y coordinates\n",
    "x_uniq = np.unique(df.X)\n",
    "y_uniq = np.unique(df.Y)\n",
    "\n",
    "xmin = np.min(x_uniq)\n",
    "xmax = np.max(x_uniq)\n",
    "ymin = np.min(y_uniq)\n",
    "ymax = np.max(y_uniq)\n",
    "\n",
    "cols = len(x_uniq)\n",
    "rows = len(y_uniq)\n",
    "\n",
    "resolution = 1000\n",
    "\n",
    "xx, yy = np.meshgrid(x_uniq, y_uniq)"
   ]
  },
  {
   "cell_type": "code",
   "execution_count": null,
   "id": "c2a063d4-9c4e-4a78-aa71-d94bfc39298f",
   "metadata": {},
   "outputs": [],
   "source": [
    "# load other data\n",
    "velx, vely, velxerr, velyerr, fig = Topography.load_vel_measures('../../Data/antarctica_ice_velocity_450m_v2.nc', xx, yy)\n",
    "dhdt, fig = Topography.load_dhdt('../Data/ANT_G1920_GroundedIceHeight_v01.nc',xx,yy,interp_method='linear',begin_year = 2013,end_year=2015,month=7)\n",
    "smb, fig = Topography.load_smb_racmo('../Data/SMB_RACMO2.3p2_yearly_ANT27_1979_2016.nc', xx, yy, interp_method='spline',time=2014)\n",
    "bm_mask, bm_source, bm_bed, bm_surface, bm_errbed, fig = Topography.load_bedmachine('../../Data/BedMachineAntarctica-v3.nc', xx, yy)"
   ]
  },
  {
   "cell_type": "code",
   "execution_count": null,
   "id": "6665e55f-d0c9-4bc9-b0ce-d8b6f8e1066d",
   "metadata": {},
   "outputs": [],
   "source": [
    "# find variograms\n",
    "df_bed = df.copy()\n",
    "df_bed = df_bed[df_bed[\"bed\"].isnull() == False]\n",
    "data = df_bed['bed'].values.reshape(-1,1)\n",
    "coords = df_bed[['X','Y']].values\n",
    "roughness_region_mask = (df_bed['bedmachine_mask'].values)==2 # Read BedMachine user guide for the meaning of values == 2 https://nsidc.org/data/nsidc-0756/versions/3\n",
    "\n",
    "nst_trans, Nbed_radar, varios, fig = MCMC.fit_variogram(data, coords, roughness_region_mask, maxlag=70000, n_lags=70)"
   ]
  },
  {
   "cell_type": "code",
   "execution_count": null,
   "id": "8be1a5f7-e80d-44bf-9fe3-e60c6041ca19",
   "metadata": {},
   "outputs": [],
   "source": [
    "# calculate high velocity region\n",
    "ocean_mask = (bm_mask == 0) | (bm_mask == 3) # utilize the mask in BedMachine dataset to characterize ice regions\n",
    "grounded_ice_mask = (bm_mask == 2)\n",
    "distance_max = 3000\n",
    "velocity_threshold = 50\n",
    "highvel_mask = Topography.get_highvel_boundary(velx, vely, velocity_threshold, grounded_ice_mask, ocean_mask, distance_max, xx, yy)"
   ]
  },
  {
   "cell_type": "code",
   "execution_count": null,
   "id": "9a1de18a-c7e5-4003-add8-a284c45e0e4c",
   "metadata": {},
   "outputs": [],
   "source": [
    "# load the initial bed\n",
    "sgs_bed = np.loadtxt('sgs_bed.txt')\n",
    "thickness = bm_surface - sgs_bed\n",
    "sgs_bed = np.where((thickness<=0)&(bm_mask==2), bm_surface-1, sgs_bed)"
   ]
  },
  {
   "cell_type": "code",
   "execution_count": null,
   "id": "f8a04e52-abc5-4c8f-8d60-3b6c14efb2f2",
   "metadata": {},
   "outputs": [],
   "source": [
    "# initiate conditioning data and a mask of conditioning data\n",
    "cond_bed = df['bed'].values.reshape(xx.shape)\n",
    "data_mask = ~np.isnan(cond_bed)"
   ]
  },
  {
   "cell_type": "markdown",
   "id": "e59c5786-f586-4948-8595-2c6c7d90a814",
   "metadata": {},
   "source": [
    "### Then initiating the SGS chain"
   ]
  },
  {
   "cell_type": "markdown",
   "id": "1630b771-4dbf-4893-95e7-de8e130ae6af",
   "metadata": {},
   "source": [
    "The first 4 initialization process are very similar to chain_crf, please refers to Tutorial 3 for detailed information"
   ]
  },
  {
   "cell_type": "code",
   "execution_count": null,
   "id": "78ef0a12-b818-45b3-b911-21f11ac03431",
   "metadata": {},
   "outputs": [],
   "source": [
    "csgs = MCMC.chain_sgs(xx, yy, sgs_bed, bm_surface, velx, vely, dhdt, smb, cond_bed, data_mask, grounded_ice_mask, resolution)"
   ]
  },
  {
   "cell_type": "code",
   "execution_count": null,
   "id": "a1471a46-ed63-4c46-91d6-d41b243606f8",
   "metadata": {},
   "outputs": [],
   "source": [
    "csgs.set_high_vel_region(True,highvel_mask)"
   ]
  },
  {
   "cell_type": "code",
   "execution_count": null,
   "id": "014f1099-92ea-42d8-a051-025a41d99aa5",
   "metadata": {},
   "outputs": [],
   "source": [
    "csgs.set_loss_type(map_func='sumsquare', diff_func='sumsquare', sigma_mc=3, sigma_data=50, massConvInRegion=True)"
   ]
  },
  {
   "cell_type": "code",
   "execution_count": null,
   "id": "3eb0216d-643d-4c77-8269-6001d789abb0",
   "metadata": {},
   "outputs": [],
   "source": [
    "# TODO: change this function to be consistent with crf chain\n",
    "min_block_x = 10\n",
    "max_block_x = 30\n",
    "min_block_y = 10\n",
    "max_block_y = 30\n",
    "csgs.set_block_sizes(min_block_x, min_block_y, max_block_x, max_block_y)"
   ]
  },
  {
   "cell_type": "markdown",
   "id": "ab71c484-4341-4d4f-a1ec-b3329b88fef2",
   "metadata": {},
   "source": [
    "Sequential Gaussian Simulation is set to perform on the normalized data. This nst_trans is an object of the QuantileTranformer class in scikit-learn python library. The *fit_variogram* function returns a nst_trans object, which could be directly used here"
   ]
  },
  {
   "cell_type": "code",
   "execution_count": null,
   "id": "0d998ea6-02b8-471e-8c11-a3ffb2b08023",
   "metadata": {},
   "outputs": [],
   "source": [
    "csgs.set_normal_transformation(nst_trans)"
   ]
  },
  {
   "cell_type": "markdown",
   "id": "2c9a46d5-2b39-49eb-a1ee-d58fcb7760ed",
   "metadata": {},
   "source": [
    "When running the SGS chain, it is possible to 'detrend' the topography.\n",
    "\n",
    "Detrend topography refers to substracting a pre-defined trend from the topography map, where the trend suppose to represent long-wavelength features that violate stationary properties of SGS. If choose to detrend the topography, the argument *detrend_map* need to be set to True, and the argument *trend* need to be a 2D numpy array representing the topography trend"
   ]
  },
  {
   "cell_type": "code",
   "execution_count": null,
   "id": "228daccb-e0a3-4799-a8ce-8d369c185e9d",
   "metadata": {},
   "outputs": [],
   "source": [
    "csgs.set_trend(trend = [], detrend_map = False)"
   ]
  },
  {
   "cell_type": "code",
   "execution_count": null,
   "id": "b2289a61-1cd2-4e5a-a2a4-b41e48da0b6d",
   "metadata": {},
   "outputs": [],
   "source": [
    "csgs.set_variogram('Spherical',varios[2][0],varios[2][1],0,isotropic=True)"
   ]
  },
  {
   "cell_type": "code",
   "execution_count": null,
   "id": "926bb1a9-0e4a-4092-ab3f-c48d7b4426c2",
   "metadata": {},
   "outputs": [],
   "source": [
    "csgs.set_sgs_param(48, 50e3, sgs_rand_dropout_on=True, dropout_rate=0.3)"
   ]
  },
  {
   "cell_type": "code",
   "execution_count": null,
   "id": "6b6b4722-d529-46ff-92ef-5205b909ce51",
   "metadata": {},
   "outputs": [],
   "source": [
    "seed = 1\n",
    "randomGenerator = np.random.default_rng(seed)\n",
    "bed_cache, loss_mc_cache, loss_data_cache, loss_cache, step_cache, resampled_times, blocks_cache = csgs.run(n_iter=500, rng=randomGenerator)"
   ]
  }
 ],
 "metadata": {
  "kernelspec": {
   "display_name": "geostatskernel",
   "language": "python",
   "name": "geostatskernel"
  },
  "language_info": {
   "codemirror_mode": {
    "name": "ipython",
    "version": 3
   },
   "file_extension": ".py",
   "mimetype": "text/x-python",
   "name": "python",
   "nbconvert_exporter": "python",
   "pygments_lexer": "ipython3",
   "version": "3.12.3"
  }
 },
 "nbformat": 4,
 "nbformat_minor": 5
}
