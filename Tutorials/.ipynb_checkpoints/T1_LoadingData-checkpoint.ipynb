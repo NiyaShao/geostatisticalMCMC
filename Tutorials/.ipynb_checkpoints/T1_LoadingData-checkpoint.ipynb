{
 "cells": [
  {
   "cell_type": "markdown",
   "id": "46c0a34b-c7a7-47a2-a8b9-de3ae6699d5d",
   "metadata": {},
   "source": [
    "## Notice\n",
    "gstatsMCMC.Topography provides functions for loading required datasets, such as the MEaSUREs InSAR-Based Antarctica Ice Velocity Map (Ver 2), Surface Mass Balance provided by RACMO2.3p2, MEaSUREs ITS_LIVE Antarctic Grounded Ice Sheet Elevation Change (Ver 1), and BedMachine Antarctica Topography. These functions are used for conveniently loading datasets used in the paper __DOI__. However, they are not generally applicable to other datasets or the above datasets if they changed their format after 2025. This jupyter notebook tutorial demonstrate how to load those dataset through functions in the gstatsMCMC library. The original code in gstatsMCMC also could be a good starting point to be used for other dataset"
   ]
  },
  {
   "cell_type": "markdown",
   "id": "eb3a43e4-554d-4115-b5de-3b0dd16da9c7",
   "metadata": {},
   "source": [
    "# Tutorial 1: Loading and Visualizing Ice Stream Data"
   ]
  },
  {
   "cell_type": "markdown",
   "id": "e0e44c74-e2ad-4797-9066-f24cda371d25",
   "metadata": {},
   "source": [
    "Let's first import libraries used in this jupyter lab. Notice that prerequired libraries in gstatsMCMC must be installed even if they are not imported in the jupyter notebook interface here"
   ]
  },
  {
   "cell_type": "markdown",
   "id": "c33922bc-29ee-4a6e-b251-f7e00caeb971",
   "metadata": {},
   "source": [
    "__TODO: change the name of the Topography module, or update the package's structure__"
   ]
  },
  {
   "cell_type": "code",
   "execution_count": 5,
   "id": "742f00c0-c74c-4524-b4c4-d73fc764c236",
   "metadata": {},
   "outputs": [],
   "source": [
    "import numpy as np\n",
    "import matplotlib.pyplot as plt\n",
    "from pck import Topography"
   ]
  },
  {
   "cell_type": "markdown",
   "id": "a49d8a11-6777-42d0-9fb1-21137e73dc41",
   "metadata": {},
   "source": [
    "First, lets decides a region in Antarctic that we are interested in"
   ]
  },
  {
   "cell_type": "markdown",
   "id": "1e6a818e-13f6-4331-98f0-6c8d2a92116a",
   "metadata": {},
   "source": [
    "__Q1: Where is your glacier? What is the boundary of  this glacier in polar stereographic coordinate? Answer the question and then fill out the code__\n",
    "\n",
    "Answer:"
   ]
  },
  {
   "cell_type": "code",
   "execution_count": null,
   "id": "c94be66c-3a3e-4a95-a474-e78772711701",
   "metadata": {},
   "outputs": [],
   "source": [
    "# unit is meter\n",
    "xmin = \n",
    "xmax = \n",
    "ymin =\n",
    "ymax ="
   ]
  },
  {
   "cell_type": "code",
   "execution_count": null,
   "id": "910d4959-cdad-4d79-ae34-c3b57be05ea3",
   "metadata": {},
   "outputs": [],
   "source": [
    "resolution = "
   ]
  },
  {
   "cell_type": "markdown",
   "id": "536c748c-d709-4f72-a062-04de257be53c",
   "metadata": {},
   "source": [
    "### First, lets load the ice-penetrating radar data.\n",
    "Please check with bedmap3 website and __download all the bed elevation measurements data into one folder__. Let's call that folder *radar_folder*."
   ]
  },
  {
   "cell_type": "code",
   "execution_count": null,
   "id": "59fe7117-2674-4d08-8e97-02f58ebe9f88",
   "metadata": {},
   "outputs": [],
   "source": [
    "radar_folder = ''\n",
    "output_file_name = ''"
   ]
  },
  {
   "cell_type": "markdown",
   "id": "ff9c1126-395b-4cfc-ad26-4143e16b677e",
   "metadata": {},
   "source": [
    "Loading radar dataset"
   ]
  },
  {
   "cell_type": "code",
   "execution_count": null,
   "id": "9cc3efab-5f39-4f54-bc0e-df587bd272c0",
   "metadata": {},
   "outputs": [],
   "source": [
    "df, df_out, fig = Topography.load_radar(radar_foler, output_file_name, include_only_thickness_data=False)"
   ]
  },
  {
   "cell_type": "code",
   "execution_count": null,
   "id": "a39e2046-7192-4311-a03a-340fc8732a2b",
   "metadata": {},
   "outputs": [],
   "source": [
    "fig"
   ]
  },
  {
   "cell_type": "markdown",
   "id": "20c5e221-3b51-4be7-95df-b40f31865d74",
   "metadata": {},
   "source": [
    "gridding radar data"
   ]
  },
  {
   "cell_type": "code",
   "execution_count": null,
   "id": "3dac2ae2-ddb2-4efa-ac98-415f5d395009",
   "metadata": {},
   "outputs": [],
   "source": [
    "df=df[(df['x']>=xmin) & (df['x']<=xmax) & (df['y']>=ymin) & (df['y']<=ymax)]\n",
    "df_grid, grid_matrix, rows, cols = Topography.grid_data(df, 'x', 'y', 'bed', res, xmin, xmax, ymin, ymax)\n",
    "df_grid = df_grid.rename(columns = {\"Z\": \"bed\"})\n",
    "\n",
    "x_uniq = np.unique(df_grid.X)\n",
    "y_uniq = np.unique(df_grid.Y)\n",
    "\n",
    "xx, yy = np.meshgrid(x_uniq, y_uniq)\n",
    "xx.shape"
   ]
  },
  {
   "cell_type": "markdown",
   "id": "0fa6e877-cb8c-4e5c-b81d-ddf14dbc25af",
   "metadata": {},
   "source": [
    "save the gridded radar data"
   ]
  },
  {
   "cell_type": "code",
   "execution_count": null,
   "id": "5dfa40c3-d749-492f-abbe-9cec6d905ebf",
   "metadata": {},
   "outputs": [],
   "source": [
    "df.to_csv('')"
   ]
  },
  {
   "cell_type": "markdown",
   "id": "08543c3a-c313-48b3-ac8f-1342532a2aab",
   "metadata": {},
   "source": [
    "now your turn, how could you load compiled radar data from the output file?"
   ]
  },
  {
   "cell_type": "code",
   "execution_count": null,
   "id": "66f4ea81-5bde-49a6-9d39-a09d6183b641",
   "metadata": {},
   "outputs": [],
   "source": []
  },
  {
   "cell_type": "markdown",
   "id": "5c87b0ab-f16b-4146-b98e-2609f199c076",
   "metadata": {},
   "source": [
    "### Then we can load other data needed"
   ]
  },
  {
   "cell_type": "code",
   "execution_count": null,
   "id": "17df69c4-dce4-4bf7-ab50-6f02e642d2b2",
   "metadata": {},
   "outputs": [],
   "source": [
    "print('testing for loading InSAR_MEaSUREs velocity dataset')\n",
    "velx, vely, velxerr, velyerr, figvel = Topography.load_vel_measures('../../Data/antarctica_ice_velocity_450m_v2.nc', xx, yy)\n",
    "figvel"
   ]
  },
  {
   "cell_type": "code",
   "execution_count": null,
   "id": "e53994ea-44d2-4a68-b10e-9d9ee3ae0614",
   "metadata": {},
   "outputs": [],
   "source": [
    "print('testing for loading height change rate dataset')\n",
    "dhdt, figdhdt = Topography.load_dhdt('../Data/ANT_G1920_GroundedIceHeight_v01.nc',xx,yy,interp_method='linear',begin_year = 2013,end_year=2015,month=7)\n",
    "figdhdt"
   ]
  },
  {
   "cell_type": "code",
   "execution_count": null,
   "id": "d5e1504d-225c-4188-82c8-b9a39f0fc3cb",
   "metadata": {},
   "outputs": [],
   "source": [
    "print('testing for loading racmo dataset')   \n",
    "smb, fig = Topography.load_smb_racmo('../Data/SMB_RACMO2.3p2_yearly_ANT27_1979_2016.nc', xx, yy, interp_method='spline',time=2014)\n",
    "figsmb"
   ]
  },
  {
   "cell_type": "code",
   "execution_count": null,
   "id": "591b207a-2c90-4333-ac54-8d2ba6e932ac",
   "metadata": {},
   "outputs": [],
   "source": [
    "print('testing for loading BedMachine dataset')\n",
    "bm_mask, bm_source, bm_bed, bm_surface, bm_errbed, figbm = Topography.load_bedmachine('../../Data/BedMachineAntarctica-v3.nc', xx, yy)\n",
    "figbm"
   ]
  },
  {
   "cell_type": "markdown",
   "id": "74a22e69-e502-4d2b-a057-b53e8b71e2dd",
   "metadata": {},
   "source": [
    "__How will you interpret the data loaded?__"
   ]
  },
  {
   "cell_type": "markdown",
   "id": "ba4586d3-36f2-4576-9f76-9cc6853ce5df",
   "metadata": {},
   "source": [
    "__Have you noticed any data that have gaps inside the region? Do you have any guesses why those gaps exists?__\n",
    "\n",
    "These gaps could affect the calculation of mass conservation residual in the later tutorial. If the gaps exist, please try to load data from other datasets or consistently change the reference time, until you have found surface ice velocity, surface mass balance, and surface elevation change that covers the entire region"
   ]
  },
  {
   "cell_type": "code",
   "execution_count": null,
   "id": "af24c61c-4948-4a5c-acc7-cf4ef585d6bd",
   "metadata": {},
   "outputs": [],
   "source": []
  }
 ],
 "metadata": {
  "kernelspec": {
   "display_name": "geostatskernel",
   "language": "python",
   "name": "geostatskernel"
  },
  "language_info": {
   "codemirror_mode": {
    "name": "ipython",
    "version": 3
   },
   "file_extension": ".py",
   "mimetype": "text/x-python",
   "name": "python",
   "nbconvert_exporter": "python",
   "pygments_lexer": "ipython3",
   "version": "3.12.3"
  }
 },
 "nbformat": 4,
 "nbformat_minor": 5
}
