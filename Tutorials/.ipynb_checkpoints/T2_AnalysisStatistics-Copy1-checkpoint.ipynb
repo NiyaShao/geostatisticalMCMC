{
 "cells": [
  {
   "cell_type": "markdown",
   "id": "5402b269-25a9-47f0-a5c5-1131fbe200bd",
   "metadata": {},
   "source": [
    "# Tutorial 2: Analyzing Statistics and Variogram of the Ice Stream Data"
   ]
  },
  {
   "cell_type": "markdown",
   "id": "8d2323be-31ee-4e28-8d9d-c3f9c604cd75",
   "metadata": {},
   "source": [
    "### First load data as before"
   ]
  },
  {
   "cell_type": "code",
   "execution_count": 1,
   "id": "2a067b08-d851-4745-87af-03084c9f5b62",
   "metadata": {},
   "outputs": [],
   "source": [
    "# load compiled bed elevation measurements\n",
    "df = pd.read_csv('')"
   ]
  },
  {
   "cell_type": "code",
   "execution_count": null,
   "id": "ab150e0c-6985-4ec3-9b2d-1c2394e721ef",
   "metadata": {},
   "outputs": [],
   "source": [
    "# create a grid of x and y coordinates\n",
    "x_uniq = np.unique(df.X)\n",
    "y_uniq = np.unique(df.Y)\n",
    "\n",
    "xmin = np.min(x_uniq)\n",
    "xmax = np.max(x_uniq)\n",
    "ymin = np.min(y_uniq)\n",
    "ymax = np.max(y_uniq)\n",
    "\n",
    "cols = len(x_uniq)\n",
    "rows = len(y_uniq)\n",
    "\n",
    "resolution = 1000\n",
    "\n",
    "xx, yy = np.meshgrid(x_uniq, y_uniq)"
   ]
  },
  {
   "cell_type": "code",
   "execution_count": null,
   "id": "ad3d8320-db33-4598-a4d7-476941ef3ab0",
   "metadata": {},
   "outputs": [],
   "source": [
    "# load other data\n",
    "velx, vely, velxerr, velyerr, fig = Topography.load_vel_measures('../../Data/antarctica_ice_velocity_450m_v2.nc', xx, yy)\n",
    "dhdt, fig = Topography.load_dhdt('../Data/ANT_G1920_GroundedIceHeight_v01.nc',xx,yy,interp_method='linear',begin_year = 2013,end_year=2015,month=7)\n",
    "smb, fig = Topography.load_smb_racmo('../Data/SMB_RACMO2.3p2_yearly_ANT27_1979_2016.nc', xx, yy, interp_method='spline',time=2014)\n",
    "bm_mask, bm_source, bm_bed, bm_surface, bm_errbed, fig = Topography.load_bedmachine('../../Data/BedMachineAntarctica-v3.nc', xx, yy)"
   ]
  },
  {
   "cell_type": "markdown",
   "id": "607cc57f-82a3-4984-915f-157ce06bac7d",
   "metadata": {},
   "source": [
    "Now, it is the time to analyze the compiled radar data. How will you evaluate the roughness in this region? (hint: variogram)"
   ]
  },
  {
   "cell_type": "code",
   "execution_count": null,
   "id": "5eda8eb5-7818-48fe-821b-1682591c3b4b",
   "metadata": {},
   "outputs": [],
   "source": [
    "# find variograms\n",
    "df_bed = df.copy()\n",
    "df_bed = df_bed[df_bed[\"bed\"].isnull() == False]\n",
    "data = df_bed['bed'].values.reshape(-1,1)\n",
    "coords = df_bed[['X','Y']].values\n",
    "roughness_region_mask = (df_bed['bedmachine_mask'].values)==2\n",
    "\n",
    "nst_trans, Nbed_radar, varios, fig = MCMC.fit_variogram(data, coords, roughness_region_mask, maxlag=70000, n_lags=70)"
   ]
  },
  {
   "cell_type": "markdown",
   "id": "d2e033c7-812b-428f-b763-c9485081b306",
   "metadata": {},
   "source": [
    "In addition, since we have the velocity data, it will also be nice to know where the high velocity region is, remembering that the mass conservation technique is best applied in high velocity region"
   ]
  },
  {
   "cell_type": "code",
   "execution_count": null,
   "id": "90527ca5-75ce-47bd-8813-f42572c0470e",
   "metadata": {},
   "outputs": [],
   "source": [
    "# calculate high velocity region\n",
    "ocean_mask = (bm_mask == 0) | (bm_mask == 3)\n",
    "grounded_ice_mask = (bm_mask == 2)\n",
    "highvel_mask = Topography.get_highvel_boundary(velx, vely, 50, grounded_ice_mask, ocean_mask, 3000, xx, yy)"
   ]
  },
  {
   "cell_type": "markdown",
   "id": "6afbdb11-a7af-4ee5-8646-0a2f3648ace2",
   "metadata": {},
   "source": [
    "Let's generate a SGS bed for the entire region"
   ]
  },
  {
   "cell_type": "code",
   "execution_count": null,
   "id": "1ceb6ae3-6232-4f97-b4a9-46af4cd8596b",
   "metadata": {},
   "outputs": [],
   "source": [
    "sgs_bed = "
   ]
  },
  {
   "cell_type": "markdown",
   "id": "8b1faf61-abd2-4377-a8ab-002e6c1d059e",
   "metadata": {},
   "source": [
    "SGS only generate a realization of the bed topography according to the known radar measurements. However, it might ignored something else. The thickness of the ice can be calculated as ice surface elevation minus bed elevation. From BedMachine, we know where the land is ice-free and where is covered by ice. However, SGS might generate bed such that it 'extrude' out of ice in the supposed grounded ice region. Let's fix that quickly"
   ]
  },
  {
   "cell_type": "code",
   "execution_count": null,
   "id": "d2640159-e4c8-4b83-b8bb-9582194d6990",
   "metadata": {},
   "outputs": [],
   "source": [
    "thickness = bm_surface - sgs_bed\n",
    "sgs_bed = np.where((thickness<=0)&(bm_mask==2), bm_surface-1, sgs_bed)"
   ]
  },
  {
   "cell_type": "markdown",
   "id": "9b8000b1-0a11-49ab-b29c-b3159303ea22",
   "metadata": {},
   "source": [
    "There are other things we would like to record before begin the MCMC chains"
   ]
  },
  {
   "cell_type": "code",
   "execution_count": null,
   "id": "4e5abe76-c8b3-4bf6-8aee-e531e9f970be",
   "metadata": {},
   "outputs": [],
   "source": [
    "cond_bed = df['bed'].values.reshape(xx.shape)\n",
    "data_mask = ~np.isnan(cond_bed)"
   ]
  }
 ],
 "metadata": {
  "kernelspec": {
   "display_name": "geostatskernel",
   "language": "python",
   "name": "geostatskernel"
  },
  "language_info": {
   "codemirror_mode": {
    "name": "ipython",
    "version": 3
   },
   "file_extension": ".py",
   "mimetype": "text/x-python",
   "name": "python",
   "nbconvert_exporter": "python",
   "pygments_lexer": "ipython3",
   "version": "3.12.3"
  }
 },
 "nbformat": 4,
 "nbformat_minor": 5
}
