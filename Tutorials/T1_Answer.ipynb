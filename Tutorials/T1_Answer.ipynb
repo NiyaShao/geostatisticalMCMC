{
 "cells": [
  {
   "cell_type": "markdown",
   "id": "46c0a34b-c7a7-47a2-a8b9-de3ae6699d5d",
   "metadata": {},
   "source": [
    "## Notice\n",
    "gstatsMCMC.Topography provides functions for loading required datasets, such as the MEaSUREs InSAR-Based Antarctica Ice Velocity Map (Ver 2), Surface Mass Balance provided by RACMO2.3p2, MEaSUREs ITS_LIVE Antarctic Grounded Ice Sheet Elevation Change (Ver 1), and BedMachine Antarctica Topography. These functions are used for conveniently loading datasets used in the paper __DOI__. However, they are not generally applicable to other datasets or the above datasets if they changed their format after 2025. This jupyter notebook tutorial demonstrate how to load those dataset through functions in the gstatsMCMC library. The original code in gstatsMCMC also could be a good starting point to be used for other dataset"
   ]
  },
  {
   "cell_type": "markdown",
   "id": "eb3a43e4-554d-4115-b5de-3b0dd16da9c7",
   "metadata": {},
   "source": [
    "# Tutorial 1: Loading and Visualizing Ice Stream Data"
   ]
  },
  {
   "cell_type": "markdown",
   "id": "e0e44c74-e2ad-4797-9066-f24cda371d25",
   "metadata": {},
   "source": [
    "Let's first import libraries used in this jupyter lab. Notice that prerequired libraries in gstatsMCMC must be installed even if they are not imported in the jupyter notebook interface here"
   ]
  },
  {
   "cell_type": "markdown",
   "id": "c33922bc-29ee-4a6e-b251-f7e00caeb971",
   "metadata": {},
   "source": [
    "__TODO: change the name of the Topography module, or update the package's structure__"
   ]
  },
  {
   "cell_type": "code",
   "execution_count": 9,
   "id": "742f00c0-c74c-4524-b4c4-d73fc764c236",
   "metadata": {},
   "outputs": [],
   "source": [
    "import numpy as np\n",
    "import matplotlib.pyplot as plt\n",
    "import pandas as pd\n",
    "import Topography"
   ]
  },
  {
   "cell_type": "markdown",
   "id": "a49d8a11-6777-42d0-9fb1-21137e73dc41",
   "metadata": {},
   "source": [
    "First, lets decides a region in Antarctic that we are interested in"
   ]
  },
  {
   "cell_type": "markdown",
   "id": "1e6a818e-13f6-4331-98f0-6c8d2a92116a",
   "metadata": {},
   "source": [
    "__Q1: Where is your glacier? What is the boundary of this glacier in polar stereographic coordinate? Answer the question and then fill out the code__\n",
    "\n",
    "Answer: Denman Glacier"
   ]
  },
  {
   "cell_type": "code",
   "execution_count": 3,
   "id": "c94be66c-3a3e-4a95-a474-e78772711701",
   "metadata": {},
   "outputs": [],
   "source": [
    "# unit is meter\n",
    "xmin = 2300000\n",
    "xmax = 2600000\n",
    "ymax = -300000\n",
    "ymin = -500000"
   ]
  },
  {
   "cell_type": "code",
   "execution_count": 4,
   "id": "910d4959-cdad-4d79-ae34-c3b57be05ea3",
   "metadata": {},
   "outputs": [],
   "source": [
    "resolution = 1000"
   ]
  },
  {
   "cell_type": "markdown",
   "id": "536c748c-d709-4f72-a062-04de257be53c",
   "metadata": {},
   "source": [
    "### First, lets load the ice-penetrating radar data.\n",
    "Please check with bedmap3 website and __download all the bed elevation measurements data into one folder__. Let's call that folder *radar_folder*."
   ]
  },
  {
   "cell_type": "code",
   "execution_count": 5,
   "id": "59fe7117-2674-4d08-8e97-02f58ebe9f88",
   "metadata": {},
   "outputs": [],
   "source": [
    "radar_folder = '../Data/radarTest'\n",
    "output_file_name = '../Data/compiledRadar.csv'"
   ]
  },
  {
   "cell_type": "markdown",
   "id": "ff9c1126-395b-4cfc-ad26-4143e16b677e",
   "metadata": {},
   "source": [
    "Loading radar dataset"
   ]
  },
  {
   "cell_type": "code",
   "execution_count": 6,
   "id": "9cc3efab-5f39-4f54-bc0e-df587bd272c0",
   "metadata": {},
   "outputs": [
    {
     "name": "stdout",
     "output_type": "stream",
     "text": [
      "the following files are loaded: \n",
      "['.ipynb_checkpoints', 'UTIG_2015_EAGLE_AIR_BM3.csv', 'UTIG_2010_ICECAP_AIR_BM3.csv', 'NASA_2019_ICEBRIDGE_AIR_BM3.csv', 'radar_metadata.txt']\n",
      "the metadata for each radar compaign is saved in  ../Data/radarTest/radar_metadata.txt\n",
      "There are in total 6774053 datapoints\n",
      "output csv file saved as  ../Data/compiledRadar.csv\n"
     ]
    }
   ],
   "source": [
    "df, df_out, fig = Topography.load_radar(radar_folder, output_file_name, include_only_thickness_data=False)"
   ]
  },
  {
   "cell_type": "code",
   "execution_count": 7,
   "id": "659db84b-4d9c-4437-b5a7-181c663b6a41",
   "metadata": {},
   "outputs": [
    {
     "data": {
      "text/html": [
       "<div>\n",
       "<style scoped>\n",
       "    .dataframe tbody tr th:only-of-type {\n",
       "        vertical-align: middle;\n",
       "    }\n",
       "\n",
       "    .dataframe tbody tr th {\n",
       "        vertical-align: top;\n",
       "    }\n",
       "\n",
       "    .dataframe thead th {\n",
       "        text-align: right;\n",
       "    }\n",
       "</style>\n",
       "<table border=\"1\" class=\"dataframe\">\n",
       "  <thead>\n",
       "    <tr style=\"text-align: right;\">\n",
       "      <th></th>\n",
       "      <th>surface_altitude (m)</th>\n",
       "      <th>bed</th>\n",
       "      <th>file</th>\n",
       "      <th>x</th>\n",
       "      <th>y</th>\n",
       "    </tr>\n",
       "  </thead>\n",
       "  <tbody>\n",
       "    <tr>\n",
       "      <th>0</th>\n",
       "      <td>941.46</td>\n",
       "      <td>-6.85</td>\n",
       "      <td>UTIG_2015_EAGLE_AIR_BM3.csv</td>\n",
       "      <td>2.430675e+06</td>\n",
       "      <td>-7.553640e+05</td>\n",
       "    </tr>\n",
       "    <tr>\n",
       "      <th>1</th>\n",
       "      <td>942.28</td>\n",
       "      <td>-20.10</td>\n",
       "      <td>UTIG_2015_EAGLE_AIR_BM3.csv</td>\n",
       "      <td>2.430673e+06</td>\n",
       "      <td>-7.553431e+05</td>\n",
       "    </tr>\n",
       "    <tr>\n",
       "      <th>2</th>\n",
       "      <td>943.07</td>\n",
       "      <td>-19.73</td>\n",
       "      <td>UTIG_2015_EAGLE_AIR_BM3.csv</td>\n",
       "      <td>2.430672e+06</td>\n",
       "      <td>-7.553221e+05</td>\n",
       "    </tr>\n",
       "    <tr>\n",
       "      <th>3</th>\n",
       "      <td>943.85</td>\n",
       "      <td>-20.41</td>\n",
       "      <td>UTIG_2015_EAGLE_AIR_BM3.csv</td>\n",
       "      <td>2.430670e+06</td>\n",
       "      <td>-7.553011e+05</td>\n",
       "    </tr>\n",
       "    <tr>\n",
       "      <th>4</th>\n",
       "      <td>944.59</td>\n",
       "      <td>-28.01</td>\n",
       "      <td>UTIG_2015_EAGLE_AIR_BM3.csv</td>\n",
       "      <td>2.430669e+06</td>\n",
       "      <td>-7.552801e+05</td>\n",
       "    </tr>\n",
       "    <tr>\n",
       "      <th>...</th>\n",
       "      <td>...</td>\n",
       "      <td>...</td>\n",
       "      <td>...</td>\n",
       "      <td>...</td>\n",
       "      <td>...</td>\n",
       "    </tr>\n",
       "    <tr>\n",
       "      <th>6774048</th>\n",
       "      <td>1177.04</td>\n",
       "      <td>-490.83</td>\n",
       "      <td>NASA_2019_ICEBRIDGE_AIR_BM3.csv</td>\n",
       "      <td>9.573014e+05</td>\n",
       "      <td>-2.032978e+06</td>\n",
       "    </tr>\n",
       "    <tr>\n",
       "      <th>6774049</th>\n",
       "      <td>1178.06</td>\n",
       "      <td>-485.31</td>\n",
       "      <td>NASA_2019_ICEBRIDGE_AIR_BM3.csv</td>\n",
       "      <td>9.573079e+05</td>\n",
       "      <td>-2.032991e+06</td>\n",
       "    </tr>\n",
       "    <tr>\n",
       "      <th>6774050</th>\n",
       "      <td>1178.05</td>\n",
       "      <td>-481.17</td>\n",
       "      <td>NASA_2019_ICEBRIDGE_AIR_BM3.csv</td>\n",
       "      <td>9.573144e+05</td>\n",
       "      <td>-2.033005e+06</td>\n",
       "    </tr>\n",
       "    <tr>\n",
       "      <th>6774051</th>\n",
       "      <td>1176.71</td>\n",
       "      <td>-478.78</td>\n",
       "      <td>NASA_2019_ICEBRIDGE_AIR_BM3.csv</td>\n",
       "      <td>9.573208e+05</td>\n",
       "      <td>-2.033018e+06</td>\n",
       "    </tr>\n",
       "    <tr>\n",
       "      <th>6774052</th>\n",
       "      <td>1175.10</td>\n",
       "      <td>-477.69</td>\n",
       "      <td>NASA_2019_ICEBRIDGE_AIR_BM3.csv</td>\n",
       "      <td>9.573273e+05</td>\n",
       "      <td>-2.033032e+06</td>\n",
       "    </tr>\n",
       "  </tbody>\n",
       "</table>\n",
       "<p>6774053 rows × 5 columns</p>\n",
       "</div>"
      ],
      "text/plain": [
       "         surface_altitude (m)     bed                             file  \\\n",
       "0                      941.46   -6.85      UTIG_2015_EAGLE_AIR_BM3.csv   \n",
       "1                      942.28  -20.10      UTIG_2015_EAGLE_AIR_BM3.csv   \n",
       "2                      943.07  -19.73      UTIG_2015_EAGLE_AIR_BM3.csv   \n",
       "3                      943.85  -20.41      UTIG_2015_EAGLE_AIR_BM3.csv   \n",
       "4                      944.59  -28.01      UTIG_2015_EAGLE_AIR_BM3.csv   \n",
       "...                       ...     ...                              ...   \n",
       "6774048               1177.04 -490.83  NASA_2019_ICEBRIDGE_AIR_BM3.csv   \n",
       "6774049               1178.06 -485.31  NASA_2019_ICEBRIDGE_AIR_BM3.csv   \n",
       "6774050               1178.05 -481.17  NASA_2019_ICEBRIDGE_AIR_BM3.csv   \n",
       "6774051               1176.71 -478.78  NASA_2019_ICEBRIDGE_AIR_BM3.csv   \n",
       "6774052               1175.10 -477.69  NASA_2019_ICEBRIDGE_AIR_BM3.csv   \n",
       "\n",
       "                    x             y  \n",
       "0        2.430675e+06 -7.553640e+05  \n",
       "1        2.430673e+06 -7.553431e+05  \n",
       "2        2.430672e+06 -7.553221e+05  \n",
       "3        2.430670e+06 -7.553011e+05  \n",
       "4        2.430669e+06 -7.552801e+05  \n",
       "...               ...           ...  \n",
       "6774048  9.573014e+05 -2.032978e+06  \n",
       "6774049  9.573079e+05 -2.032991e+06  \n",
       "6774050  9.573144e+05 -2.033005e+06  \n",
       "6774051  9.573208e+05 -2.033018e+06  \n",
       "6774052  9.573273e+05 -2.033032e+06  \n",
       "\n",
       "[6774053 rows x 5 columns]"
      ]
     },
     "execution_count": 7,
     "metadata": {},
     "output_type": "execute_result"
    }
   ],
   "source": [
    "df"
   ]
  },
  {
   "cell_type": "code",
   "execution_count": 8,
   "id": "a39e2046-7192-4311-a03a-340fc8732a2b",
   "metadata": {},
   "outputs": [
    {
     "data": {
      "image/png": "[encoded data removed]",
      "text/plain": [
       "<Figure size 850x700 with 8 Axes>"
      ]
     },
     "execution_count": 8,
     "metadata": {},
     "output_type": "execute_result"
    }
   ],
   "source": [
    "fig"
   ]
  },
  {
   "cell_type": "markdown",
   "id": "20c5e221-3b51-4be7-95df-b40f31865d74",
   "metadata": {},
   "source": [
    "gridding radar data"
   ]
  },
  {
   "cell_type": "code",
   "execution_count": 11,
   "id": "3dac2ae2-ddb2-4efa-ac98-415f5d395009",
   "metadata": {},
   "outputs": [
    {
     "data": {
      "text/plain": [
       "(200, 300)"
      ]
     },
     "execution_count": 11,
     "metadata": {},
     "output_type": "execute_result"
    }
   ],
   "source": [
    "df=df[(df['x']>=xmin) & (df['x']<=xmax) & (df['y']>=ymin) & (df['y']<=ymax)] # find all radar data inside the domain\n",
    "df_grid, grid_matrix, rows, cols = Topography.grid_data(df, 'x', 'y', 'bed', resolution, xmin, xmax, ymin, ymax) # grid them\n",
    "df_grid = df_grid.rename(columns = {\"Z\": \"bed\"})\n",
    "\n",
    "x_uniq = np.unique(df_grid.X)\n",
    "y_uniq = np.unique(df_grid.Y)\n",
    "\n",
    "xx, yy = np.meshgrid(x_uniq, y_uniq) # xx store the x coordinate of every location on this 2D map. Similarly, yy store y coordinate\n",
    "xx.shape"
   ]
  },
  {
   "cell_type": "code",
   "execution_count": 14,
   "id": "a5aa8fff-7cc9-4ae8-afe6-a218e38c653b",
   "metadata": {},
   "outputs": [
    {
     "data": {
      "text/html": [
       "<div>\n",
       "<style scoped>\n",
       "    .dataframe tbody tr th:only-of-type {\n",
       "        vertical-align: middle;\n",
       "    }\n",
       "\n",
       "    .dataframe tbody tr th {\n",
       "        vertical-align: top;\n",
       "    }\n",
       "\n",
       "    .dataframe thead th {\n",
       "        text-align: right;\n",
       "    }\n",
       "</style>\n",
       "<table border=\"1\" class=\"dataframe\">\n",
       "  <thead>\n",
       "    <tr style=\"text-align: right;\">\n",
       "      <th></th>\n",
       "      <th>X</th>\n",
       "      <th>Y</th>\n",
       "      <th>Sum</th>\n",
       "      <th>Count</th>\n",
       "      <th>bed</th>\n",
       "    </tr>\n",
       "  </thead>\n",
       "  <tbody>\n",
       "    <tr>\n",
       "      <th>0</th>\n",
       "      <td>2300000.0</td>\n",
       "      <td>-500000.0</td>\n",
       "      <td>0.00</td>\n",
       "      <td>0.0</td>\n",
       "      <td>NaN</td>\n",
       "    </tr>\n",
       "    <tr>\n",
       "      <th>1</th>\n",
       "      <td>2301000.0</td>\n",
       "      <td>-500000.0</td>\n",
       "      <td>0.00</td>\n",
       "      <td>0.0</td>\n",
       "      <td>NaN</td>\n",
       "    </tr>\n",
       "    <tr>\n",
       "      <th>2</th>\n",
       "      <td>2302000.0</td>\n",
       "      <td>-500000.0</td>\n",
       "      <td>0.00</td>\n",
       "      <td>0.0</td>\n",
       "      <td>NaN</td>\n",
       "    </tr>\n",
       "    <tr>\n",
       "      <th>3</th>\n",
       "      <td>2303000.0</td>\n",
       "      <td>-500000.0</td>\n",
       "      <td>0.00</td>\n",
       "      <td>0.0</td>\n",
       "      <td>NaN</td>\n",
       "    </tr>\n",
       "    <tr>\n",
       "      <th>4</th>\n",
       "      <td>2304000.0</td>\n",
       "      <td>-500000.0</td>\n",
       "      <td>0.00</td>\n",
       "      <td>0.0</td>\n",
       "      <td>NaN</td>\n",
       "    </tr>\n",
       "    <tr>\n",
       "      <th>...</th>\n",
       "      <td>...</td>\n",
       "      <td>...</td>\n",
       "      <td>...</td>\n",
       "      <td>...</td>\n",
       "      <td>...</td>\n",
       "    </tr>\n",
       "    <tr>\n",
       "      <th>59995</th>\n",
       "      <td>2595000.0</td>\n",
       "      <td>-301000.0</td>\n",
       "      <td>0.00</td>\n",
       "      <td>0.0</td>\n",
       "      <td>NaN</td>\n",
       "    </tr>\n",
       "    <tr>\n",
       "      <th>59996</th>\n",
       "      <td>2596000.0</td>\n",
       "      <td>-301000.0</td>\n",
       "      <td>0.00</td>\n",
       "      <td>0.0</td>\n",
       "      <td>NaN</td>\n",
       "    </tr>\n",
       "    <tr>\n",
       "      <th>59997</th>\n",
       "      <td>2597000.0</td>\n",
       "      <td>-301000.0</td>\n",
       "      <td>-19153.21</td>\n",
       "      <td>55.0</td>\n",
       "      <td>-348.240182</td>\n",
       "    </tr>\n",
       "    <tr>\n",
       "      <th>59998</th>\n",
       "      <td>2598000.0</td>\n",
       "      <td>-301000.0</td>\n",
       "      <td>-1377.57</td>\n",
       "      <td>4.0</td>\n",
       "      <td>-344.392500</td>\n",
       "    </tr>\n",
       "    <tr>\n",
       "      <th>59999</th>\n",
       "      <td>2599000.0</td>\n",
       "      <td>-301000.0</td>\n",
       "      <td>0.00</td>\n",
       "      <td>0.0</td>\n",
       "      <td>NaN</td>\n",
       "    </tr>\n",
       "  </tbody>\n",
       "</table>\n",
       "<p>60000 rows × 5 columns</p>\n",
       "</div>"
      ],
      "text/plain": [
       "               X         Y       Sum  Count         bed\n",
       "0      2300000.0 -500000.0      0.00    0.0         NaN\n",
       "1      2301000.0 -500000.0      0.00    0.0         NaN\n",
       "2      2302000.0 -500000.0      0.00    0.0         NaN\n",
       "3      2303000.0 -500000.0      0.00    0.0         NaN\n",
       "4      2304000.0 -500000.0      0.00    0.0         NaN\n",
       "...          ...       ...       ...    ...         ...\n",
       "59995  2595000.0 -301000.0      0.00    0.0         NaN\n",
       "59996  2596000.0 -301000.0      0.00    0.0         NaN\n",
       "59997  2597000.0 -301000.0 -19153.21   55.0 -348.240182\n",
       "59998  2598000.0 -301000.0  -1377.57    4.0 -344.392500\n",
       "59999  2599000.0 -301000.0      0.00    0.0         NaN\n",
       "\n",
       "[60000 rows x 5 columns]"
      ]
     },
     "execution_count": 14,
     "metadata": {},
     "output_type": "execute_result"
    }
   ],
   "source": [
    "df_grid"
   ]
  },
  {
   "cell_type": "code",
   "execution_count": 13,
   "id": "8c164e41-79f3-4b90-ab9c-c4ca54b78fca",
   "metadata": {},
   "outputs": [
    {
     "data": {
      "text/plain": [
       "array([[          nan,           nan,           nan, ..., -348.24018182,\n",
       "        -344.3925    ,           nan],\n",
       "       [          nan,           nan,           nan, ..., -354.6928    ,\n",
       "                  nan,           nan],\n",
       "       [          nan,           nan,           nan, ...,           nan,\n",
       "                  nan,           nan],\n",
       "       ...,\n",
       "       [          nan,           nan,           nan, ...,           nan,\n",
       "                  nan,           nan],\n",
       "       [          nan,           nan,           nan, ...,           nan,\n",
       "                  nan,           nan],\n",
       "       [          nan,           nan,           nan, ...,           nan,\n",
       "                  nan,           nan]])"
      ]
     },
     "execution_count": 13,
     "metadata": {},
     "output_type": "execute_result"
    }
   ],
   "source": [
    "grid_matrix"
   ]
  },
  {
   "cell_type": "markdown",
   "id": "0fa6e877-cb8c-4e5c-b81d-ddf14dbc25af",
   "metadata": {},
   "source": [
    "save the gridded radar data"
   ]
  },
  {
   "cell_type": "code",
   "execution_count": null,
   "id": "5dfa40c3-d749-492f-abbe-9cec6d905ebf",
   "metadata": {},
   "outputs": [],
   "source": [
    "df_grid.to_csv('compiledRadar.csv', index = False)"
   ]
  },
  {
   "cell_type": "markdown",
   "id": "08543c3a-c313-48b3-ac8f-1342532a2aab",
   "metadata": {},
   "source": [
    "now your turn, how could you load compiled radar data from the output file?"
   ]
  },
  {
   "cell_type": "code",
   "execution_count": null,
   "id": "66f4ea81-5bde-49a6-9d39-a09d6183b641",
   "metadata": {},
   "outputs": [],
   "source": [
    "df_grid = pd.read_csv('compiledRadar.csv')"
   ]
  },
  {
   "cell_type": "markdown",
   "id": "5c87b0ab-f16b-4146-b98e-2609f199c076",
   "metadata": {},
   "source": [
    "### Then we can load other data needed\n",
    "\n",
    "Please refers to the document of the library to findout what to fill in each argument of the method. If you encounter any question or need clarification, please contact your TA"
   ]
  },
  {
   "cell_type": "code",
   "execution_count": null,
   "id": "17df69c4-dce4-4bf7-ab50-6f02e642d2b2",
   "metadata": {},
   "outputs": [],
   "source": [
    "print('testing for loading InSAR_MEaSUREs velocity dataset')\n",
    "velx, vely, velxerr, velyerr, figvel = Topography.load_vel_measures('../../Data/antarctica_ice_velocity_450m_v2.nc', xx, yy)\n",
    "figvel"
   ]
  },
  {
   "cell_type": "code",
   "execution_count": null,
   "id": "e53994ea-44d2-4a68-b10e-9d9ee3ae0614",
   "metadata": {},
   "outputs": [],
   "source": [
    "print('testing for loading height change rate dataset')\n",
    "dhdt, figdhdt = Topography.load_dhdt('../Data/ANT_G1920_GroundedIceHeight_v01.nc',xx,yy,interp_method='linear',begin_year=2013,end_year=2015,month=7)\n",
    "figdhdt"
   ]
  },
  {
   "cell_type": "code",
   "execution_count": null,
   "id": "d5e1504d-225c-4188-82c8-b9a39f0fc3cb",
   "metadata": {},
   "outputs": [],
   "source": [
    "print('testing for loading racmo dataset')   \n",
    "smb, fig = Topography.load_smb_racmo('../Data/SMB_RACMO2.3p2_yearly_ANT27_1979_2016.nc', xx, yy, interp_method='spline',time=2014)\n",
    "figsmb"
   ]
  },
  {
   "cell_type": "code",
   "execution_count": null,
   "id": "591b207a-2c90-4333-ac54-8d2ba6e932ac",
   "metadata": {},
   "outputs": [],
   "source": [
    "print('testing for loading BedMachine dataset')\n",
    "bm_mask, bm_source, bm_bed, bm_surface, bm_errbed, figbm = Topography.load_bedmachine('../../Data/BedMachineAntarctica-v3.nc', xx, yy)\n",
    "figbm"
   ]
  },
  {
   "cell_type": "markdown",
   "id": "74a22e69-e502-4d2b-a057-b53e8b71e2dd",
   "metadata": {},
   "source": [
    "__How will you interpret the data loaded?__"
   ]
  },
  {
   "cell_type": "markdown",
   "id": "ba4586d3-36f2-4576-9f76-9cc6853ce5df",
   "metadata": {},
   "source": [
    "__Have you noticed any data that have gaps inside the region? Do you have any guesses why those gaps exists?__\n",
    "\n",
    "These gaps could affect the calculation of mass conservation residual in the later tutorial. If the gaps exist, please try to load data from other datasets or consistently change the reference time, until you have found surface ice velocity, surface mass balance, and surface elevation change that covers the entire region"
   ]
  },
  {
   "cell_type": "code",
   "execution_count": null,
   "id": "af24c61c-4948-4a5c-acc7-cf4ef585d6bd",
   "metadata": {},
   "outputs": [],
   "source": []
  }
 ],
 "metadata": {
  "kernelspec": {
   "display_name": "geostatskernel",
   "language": "python",
   "name": "geostatskernel"
  },
  "language_info": {
   "codemirror_mode": {
    "name": "ipython",
    "version": 3
   },
   "file_extension": ".py",
   "mimetype": "text/x-python",
   "name": "python",
   "nbconvert_exporter": "python",
   "pygments_lexer": "ipython3",
   "version": "3.12.3"
  }
 },
 "nbformat": 4,
 "nbformat_minor": 5
}
